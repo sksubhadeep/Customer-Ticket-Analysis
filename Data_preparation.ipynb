{
 "cells": [
  {
   "cell_type": "code",
   "execution_count": 84,
   "id": "3d56669a",
   "metadata": {},
   "outputs": [],
   "source": [
    "import numpy as np \n",
    "import pandas as pd \n",
    "import datetime as dt\n",
    "from validate_email import validate_email"
   ]
  },
  {
   "cell_type": "code",
   "execution_count": 85,
   "id": "fa974cc3",
   "metadata": {},
   "outputs": [
    {
     "data": {
      "text/plain": [
       "(8469, 16)"
      ]
     },
     "execution_count": 85,
     "metadata": {},
     "output_type": "execute_result"
    }
   ],
   "source": [
    "#Reading the data\n",
    "df = pd.read_csv('.\\customer_support_tickets.csv',index_col=\"Ticket ID\")\n",
    "#Shape of the dataframe\n",
    "df.shape"
   ]
  },
  {
   "cell_type": "code",
   "execution_count": 86,
   "id": "93d61763",
   "metadata": {},
   "outputs": [
    {
     "data": {
      "text/plain": [
       "(8469, 16)"
      ]
     },
     "execution_count": 86,
     "metadata": {},
     "output_type": "execute_result"
    }
   ],
   "source": [
    "#Email Validation\n",
    "df1 = df[df['Customer Email'].apply(validate_email)]\n",
    "df1.shape"
   ]
  },
  {
   "cell_type": "code",
   "execution_count": 87,
   "id": "23cfc2d3",
   "metadata": {},
   "outputs": [
    {
     "name": "stdout",
     "output_type": "stream",
     "text": [
      "<class 'pandas.core.frame.DataFrame'>\n",
      "Int64Index: 8469 entries, 1 to 8469\n",
      "Data columns (total 16 columns):\n",
      " #   Column                        Non-Null Count  Dtype  \n",
      "---  ------                        --------------  -----  \n",
      " 0   Customer Name                 8469 non-null   object \n",
      " 1   Customer Email                8469 non-null   object \n",
      " 2   Customer Age                  8469 non-null   int64  \n",
      " 3   Customer Gender               8469 non-null   object \n",
      " 4   Product Purchased             8469 non-null   object \n",
      " 5   Date of Purchase              8469 non-null   object \n",
      " 6   Ticket Type                   8469 non-null   object \n",
      " 7   Ticket Subject                8469 non-null   object \n",
      " 8   Ticket Description            8469 non-null   object \n",
      " 9   Ticket Status                 8469 non-null   object \n",
      " 10  Resolution                    2769 non-null   object \n",
      " 11  Ticket Priority               8469 non-null   object \n",
      " 12  Ticket Channel                8469 non-null   object \n",
      " 13  First Response Time           5650 non-null   object \n",
      " 14  Time to Resolution            2769 non-null   object \n",
      " 15  Customer Satisfaction Rating  2769 non-null   float64\n",
      "dtypes: float64(1), int64(1), object(14)\n",
      "memory usage: 1.1+ MB\n"
     ]
    }
   ],
   "source": [
    "#Data Summary\n",
    "df.info()"
   ]
  },
  {
   "cell_type": "code",
   "execution_count": 88,
   "id": "9a3544ac",
   "metadata": {},
   "outputs": [
    {
     "data": {
      "text/plain": [
       "False"
      ]
     },
     "execution_count": 88,
     "metadata": {},
     "output_type": "execute_result"
    }
   ],
   "source": [
    "#Checking if there is any duplicate line\n",
    "df.duplicated().any()"
   ]
  },
  {
   "cell_type": "code",
   "execution_count": 89,
   "id": "021d6696",
   "metadata": {},
   "outputs": [],
   "source": [
    "#Converting to datetime object\n",
    "df['Date of Purchase'] = pd.to_datetime(df['Date of Purchase'], format = '%Y-%m-%d')\n",
    "df['First Response Time'] = pd.to_datetime(df['First Response Time'], format = '%Y-%m-%d %H:%M:%S')\n",
    "df['Time to Resolution'] = pd.to_datetime(df['Time to Resolution'], format = '%Y-%m-%d %H:%M:%S') "
   ]
  },
  {
   "cell_type": "code",
   "execution_count": 90,
   "id": "f2f5dd8f",
   "metadata": {},
   "outputs": [],
   "source": [
    "#Cleaning data\n",
    "df['Resolution'] = df['Resolution'].fillna(\"NA\")\n",
    "df['First Response Time'] = df['First Response Time'].fillna('NA')\n",
    "df['Time to Resolution'] = df['Time to Resolution'].fillna('NA')\n",
    "df['Customer Satisfaction Rating'] = df['Customer Satisfaction Rating'].fillna('NA')"
   ]
  },
  {
   "cell_type": "code",
   "execution_count": 92,
   "id": "834af1b7",
   "metadata": {},
   "outputs": [
    {
     "name": "stderr",
     "output_type": "stream",
     "text": [
      "C:\\Users\\sksub\\AppData\\Local\\Temp\\ipykernel_14888\\3563433367.py:3: SettingWithCopyWarning: \n",
      "A value is trying to be set on a copy of a slice from a DataFrame\n",
      "\n",
      "See the caveats in the documentation: https://pandas.pydata.org/pandas-docs/stable/user_guide/indexing.html#returning-a-view-versus-a-copy\n",
      "  df[\"Ticket Description\"][i]=str(df.loc[i][\"Ticket Description\"]).replace(\"{product_purchased}\",df.loc[i][\"Product Purchased\"])\n"
     ]
    }
   ],
   "source": [
    "#Replacing the product_purchased with original values\n",
    "for i in range(1,len(df)+1):\n",
    "    df[\"Ticket Description\"][i]=str(df.loc[i][\"Ticket Description\"]).replace(\"{product_purchased}\",df.loc[i][\"Product Purchased\"])"
   ]
  },
  {
   "cell_type": "code",
   "execution_count": 9,
   "id": "dc9e91c4",
   "metadata": {},
   "outputs": [],
   "source": [
    "#Saving the data\n",
    "df.to_csv('.\\input_to_unsupervised.csv')"
   ]
  },
  {
   "cell_type": "code",
   "execution_count": 10,
   "id": "9d364797",
   "metadata": {},
   "outputs": [],
   "source": [
    "#Adding an empty column\n",
    "df.insert(len(df.axes[1]) , \"Topic\", np.nan)"
   ]
  },
  {
   "cell_type": "code",
   "execution_count": 21,
   "id": "56ec6bfa",
   "metadata": {},
   "outputs": [
    {
     "name": "stderr",
     "output_type": "stream",
     "text": [
      "C:\\Users\\sksub\\AppData\\Local\\Temp\\ipykernel_4888\\1948016401.py:3: SettingWithCopyWarning: \n",
      "A value is trying to be set on a copy of a slice from a DataFrame\n",
      "\n",
      "See the caveats in the documentation: https://pandas.pydata.org/pandas-docs/stable/user_guide/indexing.html#returning-a-view-versus-a-copy\n",
      "  df[\"Topic\"][i]=str(df[\"Ticket Type\"][i]) + \" \" + str(df[\"Ticket Subject\"][i])\n"
     ]
    }
   ],
   "source": [
    "#Pre defining and pre- labelling the first 50 tickets\n",
    "for i in range(1,int(round(len(df)+1)*0.8)):\n",
    "    df[\"Topic\"][i]=str(df[\"Ticket Type\"][i]) + \" \" + str(df[\"Ticket Subject\"][i])"
   ]
  },
  {
   "cell_type": "code",
   "execution_count": 22,
   "id": "a15a72c1",
   "metadata": {},
   "outputs": [],
   "source": [
    "#Saving the data\n",
    "df.to_csv('.\\input_to_supervised.csv')"
   ]
  }
 ],
 "metadata": {
  "kernelspec": {
   "display_name": "Python 3 (ipykernel)",
   "language": "python",
   "name": "python3"
  },
  "language_info": {
   "codemirror_mode": {
    "name": "ipython",
    "version": 3
   },
   "file_extension": ".py",
   "mimetype": "text/x-python",
   "name": "python",
   "nbconvert_exporter": "python",
   "pygments_lexer": "ipython3",
   "version": "3.9.12"
  }
 },
 "nbformat": 4,
 "nbformat_minor": 5
}
