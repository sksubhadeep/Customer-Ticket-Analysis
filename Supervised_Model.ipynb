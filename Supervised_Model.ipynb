{
 "cells": [
  {
   "cell_type": "code",
   "execution_count": 1,
   "id": "05ffae39",
   "metadata": {},
   "outputs": [],
   "source": [
    "import pandas as pd\n",
    "from sklearn.model_selection import train_test_split\n",
    "from sklearn.feature_extraction.text import TfidfVectorizer\n",
    "from sklearn.svm import SVC\n",
    "from sklearn.metrics import classification_report\n",
    "\n",
    "#Loading dataset\n",
    "data = pd.read_csv('.\\input_to_supervised.csv',index_col=\"Ticket ID\")\n",
    "# 80% data for modelling purpose\n",
    "df1= data[:int(round(len(data)+1)*0.8)-1]\n",
    "# Remaining 20% data for topic prediction \n",
    "df2= data[int(round(len(data)+1)*0.8)-1:]"
   ]
  },
  {
   "cell_type": "code",
   "execution_count": 2,
   "id": "79f31cee",
   "metadata": {},
   "outputs": [],
   "source": [
    "#Feature Extraction\n",
    "tfidf_vectorizer = TfidfVectorizer(max_features=50)  # Adjust max_features as needed\n",
    "X = tfidf_vectorizer.fit_transform(df1['Ticket Description'])\n",
    "y = df1['Topic']"
   ]
  },
  {
   "cell_type": "code",
   "execution_count": 3,
   "id": "dfec598e",
   "metadata": {},
   "outputs": [
    {
     "name": "stdout",
     "output_type": "stream",
     "text": [
      "                                               precision    recall  f1-score   support\n",
      "\n",
      "               Billing inquiry Account access       0.00      0.00      0.00        12\n",
      "                 Billing inquiry Battery life       0.00      0.00      0.00        21\n",
      "         Billing inquiry Cancellation request       0.00      0.00      0.00        14\n",
      "                    Billing inquiry Data loss       0.00      0.00      0.00        10\n",
      "             Billing inquiry Delivery problem       0.00      0.00      0.00        20\n",
      "                Billing inquiry Display issue       0.00      0.00      0.00        12\n",
      "               Billing inquiry Hardware issue       0.04      0.06      0.05        18\n",
      "         Billing inquiry Installation support       0.07      0.05      0.06        19\n",
      "              Billing inquiry Network problem       0.00      0.00      0.00        11\n",
      "                Billing inquiry Payment issue       0.00      0.00      0.00        17\n",
      "     Billing inquiry Peripheral compatibility       0.00      0.00      0.00        15\n",
      "        Billing inquiry Product compatibility       0.00      0.00      0.00        23\n",
      "       Billing inquiry Product recommendation       0.00      0.00      0.00        20\n",
      "                Billing inquiry Product setup       0.33      0.05      0.09        20\n",
      "               Billing inquiry Refund request       0.00      0.00      0.00        19\n",
      "                 Billing inquiry Software bug       0.00      0.00      0.00        22\n",
      "          Cancellation request Account access       0.00      0.00      0.00        16\n",
      "            Cancellation request Battery life       0.00      0.00      0.00        16\n",
      "    Cancellation request Cancellation request       0.00      0.00      0.00        14\n",
      "               Cancellation request Data loss       0.00      0.00      0.00        16\n",
      "        Cancellation request Delivery problem       0.00      0.00      0.00        16\n",
      "           Cancellation request Display issue       0.00      0.00      0.00        15\n",
      "          Cancellation request Hardware issue       0.00      0.00      0.00        22\n",
      "    Cancellation request Installation support       0.00      0.00      0.00        16\n",
      "         Cancellation request Network problem       0.00      0.00      0.00        17\n",
      "           Cancellation request Payment issue       0.04      0.06      0.05        16\n",
      "Cancellation request Peripheral compatibility       0.00      0.00      0.00        17\n",
      "   Cancellation request Product compatibility       0.00      0.00      0.00        22\n",
      "  Cancellation request Product recommendation       0.00      0.00      0.00        18\n",
      "           Cancellation request Product setup       0.00      0.00      0.00        15\n",
      "          Cancellation request Refund request       0.00      0.00      0.00        22\n",
      "            Cancellation request Software bug       0.10      0.05      0.07        20\n",
      "               Product inquiry Account access       0.00      0.00      0.00        18\n",
      "                 Product inquiry Battery life       0.00      0.00      0.00        16\n",
      "         Product inquiry Cancellation request       0.00      0.00      0.00        15\n",
      "                    Product inquiry Data loss       0.00      0.00      0.00        12\n",
      "             Product inquiry Delivery problem       0.00      0.00      0.00        17\n",
      "                Product inquiry Display issue       0.00      0.00      0.00        14\n",
      "               Product inquiry Hardware issue       0.00      0.00      0.00        12\n",
      "         Product inquiry Installation support       0.00      0.00      0.00        17\n",
      "              Product inquiry Network problem       0.00      0.00      0.00        17\n",
      "                Product inquiry Payment issue       0.00      0.00      0.00        16\n",
      "     Product inquiry Peripheral compatibility       0.00      0.00      0.00        12\n",
      "        Product inquiry Product compatibility       0.00      0.00      0.00        23\n",
      "       Product inquiry Product recommendation       0.00      0.00      0.00        23\n",
      "                Product inquiry Product setup       0.00      0.00      0.00        17\n",
      "               Product inquiry Refund request       0.01      0.06      0.02        16\n",
      "                 Product inquiry Software bug       0.01      0.07      0.02        14\n",
      "                Refund request Account access       0.00      0.00      0.00        19\n",
      "                  Refund request Battery life       0.01      0.06      0.02        18\n",
      "          Refund request Cancellation request       0.00      0.00      0.00        20\n",
      "                     Refund request Data loss       0.00      0.00      0.00        12\n",
      "              Refund request Delivery problem       0.00      0.00      0.00        15\n",
      "                 Refund request Display issue       0.00      0.00      0.00        16\n",
      "                Refund request Hardware issue       0.03      0.04      0.04        24\n",
      "          Refund request Installation support       0.00      0.00      0.00        26\n",
      "               Refund request Network problem       0.03      0.13      0.05        15\n",
      "                 Refund request Payment issue       0.00      0.00      0.00        14\n",
      "      Refund request Peripheral compatibility       0.00      0.00      0.00        13\n",
      "         Refund request Product compatibility       0.00      0.00      0.00        26\n",
      "        Refund request Product recommendation       0.00      0.00      0.00        11\n",
      "                 Refund request Product setup       0.00      0.00      0.00        17\n",
      "                Refund request Refund request       0.00      0.00      0.00        15\n",
      "                  Refund request Software bug       0.00      0.00      0.00        24\n",
      "               Technical issue Account access       0.00      0.00      0.00        18\n",
      "                 Technical issue Battery life       0.02      0.08      0.03        13\n",
      "         Technical issue Cancellation request       0.03      0.06      0.04        16\n",
      "                    Technical issue Data loss       0.00      0.00      0.00        11\n",
      "             Technical issue Delivery problem       0.03      0.06      0.04        17\n",
      "                Technical issue Display issue       0.00      0.00      0.00        14\n",
      "               Technical issue Hardware issue       0.00      0.00      0.00        17\n",
      "         Technical issue Installation support       0.00      0.00      0.00        19\n",
      "              Technical issue Network problem       0.01      0.06      0.02        16\n",
      "                Technical issue Payment issue       0.00      0.00      0.00        14\n",
      "     Technical issue Peripheral compatibility       0.00      0.00      0.00        16\n",
      "        Technical issue Product compatibility       0.05      0.06      0.06        16\n",
      "       Technical issue Product recommendation       0.02      0.07      0.03        15\n",
      "                Technical issue Product setup       0.00      0.00      0.00        20\n",
      "               Technical issue Refund request       0.00      0.00      0.00        15\n",
      "                 Technical issue Software bug       0.00      0.00      0.00        23\n",
      "\n",
      "                                     accuracy                           0.01      1355\n",
      "                                    macro avg       0.01      0.01      0.01      1355\n",
      "                                 weighted avg       0.01      0.01      0.01      1355\n",
      "\n"
     ]
    },
    {
     "name": "stderr",
     "output_type": "stream",
     "text": [
      "C:\\Users\\sksub\\anaconda3\\lib\\site-packages\\sklearn\\metrics\\_classification.py:1318: UndefinedMetricWarning: Precision and F-score are ill-defined and being set to 0.0 in labels with no predicted samples. Use `zero_division` parameter to control this behavior.\n",
      "  _warn_prf(average, modifier, msg_start, len(result))\n",
      "C:\\Users\\sksub\\anaconda3\\lib\\site-packages\\sklearn\\metrics\\_classification.py:1318: UndefinedMetricWarning: Precision and F-score are ill-defined and being set to 0.0 in labels with no predicted samples. Use `zero_division` parameter to control this behavior.\n",
      "  _warn_prf(average, modifier, msg_start, len(result))\n",
      "C:\\Users\\sksub\\anaconda3\\lib\\site-packages\\sklearn\\metrics\\_classification.py:1318: UndefinedMetricWarning: Precision and F-score are ill-defined and being set to 0.0 in labels with no predicted samples. Use `zero_division` parameter to control this behavior.\n",
      "  _warn_prf(average, modifier, msg_start, len(result))\n"
     ]
    }
   ],
   "source": [
    "#Model Selection and Training\n",
    "X_train, X_test, y_train, y_test = train_test_split(X, y, test_size=0.2, random_state=42)\n",
    "\n",
    "# Support Vector Machine with linear kernel\n",
    "model = SVC(kernel='linear')  \n",
    "model.fit(X_train, y_train)\n",
    "\n",
    "# Evaluation\n",
    "y_pred = model.predict(X_test)\n",
    "print(classification_report(y_test, y_pred))\n"
   ]
  },
  {
   "cell_type": "code",
   "execution_count": 4,
   "id": "46649ab1",
   "metadata": {},
   "outputs": [
    {
     "name": "stderr",
     "output_type": "stream",
     "text": [
      "C:\\Users\\sksub\\AppData\\Local\\Temp\\ipykernel_18276\\3188562899.py:3: SettingWithCopyWarning: \n",
      "A value is trying to be set on a copy of a slice from a DataFrame.\n",
      "Try using .loc[row_indexer,col_indexer] = value instead\n",
      "\n",
      "See the caveats in the documentation: https://pandas.pydata.org/pandas-docs/stable/user_guide/indexing.html#returning-a-view-versus-a-copy\n",
      "  df2['Topic'] = model.predict(new_ticket_features)\n",
      "C:\\Users\\sksub\\AppData\\Local\\Temp\\ipykernel_18276\\3188562899.py:4: FutureWarning: The frame.append method is deprecated and will be removed from pandas in a future version. Use pandas.concat instead.\n",
      "  df=df1.append(df2)\n"
     ]
    }
   ],
   "source": [
    "#Topic Prediction\n",
    "new_ticket_features = tfidf_vectorizer.transform(df2['Ticket Description'])\n",
    "df2['Topic'] = model.predict(new_ticket_features)\n",
    "df=df1.append(df2)\n",
    "\n",
    "#Saving the data\n",
    "df.to_csv('.\\input_to_dashboard.csv')"
   ]
  }
 ],
 "metadata": {
  "kernelspec": {
   "display_name": "Python 3 (ipykernel)",
   "language": "python",
   "name": "python3"
  },
  "language_info": {
   "codemirror_mode": {
    "name": "ipython",
    "version": 3
   },
   "file_extension": ".py",
   "mimetype": "text/x-python",
   "name": "python",
   "nbconvert_exporter": "python",
   "pygments_lexer": "ipython3",
   "version": "3.9.12"
  }
 },
 "nbformat": 4,
 "nbformat_minor": 5
}
