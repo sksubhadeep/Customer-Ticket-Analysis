{
 "cells": [
  {
   "cell_type": "code",
   "execution_count": 1,
   "id": "e04c2bf8",
   "metadata": {},
   "outputs": [
    {
     "name": "stderr",
     "output_type": "stream",
     "text": [
      "[nltk_data] Downloading package punkt to\n",
      "[nltk_data]     C:\\Users\\sksub\\AppData\\Roaming\\nltk_data...\n",
      "[nltk_data]   Package punkt is already up-to-date!\n",
      "[nltk_data] Downloading package wordnet to\n",
      "[nltk_data]     C:\\Users\\sksub\\AppData\\Roaming\\nltk_data...\n",
      "[nltk_data]   Package wordnet is already up-to-date!\n",
      "[nltk_data] Downloading package stopwords to\n",
      "[nltk_data]     C:\\Users\\sksub\\AppData\\Roaming\\nltk_data...\n",
      "[nltk_data]   Package stopwords is already up-to-date!\n"
     ]
    }
   ],
   "source": [
    "import gensim\n",
    "from gensim import corpora\n",
    "from gensim.models import LdaModel\n",
    "from gensim.models import CoherenceModel\n",
    "import pandas as pd\n",
    "import nltk\n",
    "from nltk.corpus import stopwords\n",
    "from nltk.tokenize import word_tokenize\n",
    "from nltk.stem import WordNetLemmatizer\n",
    "\n",
    "# Downloading NLTK resources\n",
    "nltk.download('punkt')\n",
    "nltk.download('wordnet')\n",
    "nltk.download('stopwords')\n",
    "\n",
    "# Loading data\n",
    "tickets_df = pd.read_csv('.\\input_to_unsupervised.csv',index_col=\"Ticket ID\")"
   ]
  },
  {
   "cell_type": "code",
   "execution_count": 2,
   "id": "e0482ddd",
   "metadata": {},
   "outputs": [],
   "source": [
    "# Preprocessing function\n",
    "def preprocess_text(text):\n",
    "    # Tokenization\n",
    "    tokens = word_tokenize(text.lower())\n",
    "    \n",
    "    # Removing stopwords\n",
    "    stop_words = set(stopwords.words('english'))\n",
    "    tokens = [token for token in tokens if token not in stop_words]\n",
    "    \n",
    "    # Lemmatization\n",
    "    lemmatizer = WordNetLemmatizer()\n",
    "    tokens = [lemmatizer.lemmatize(token) for token in tokens]\n",
    "    \n",
    "    return tokens"
   ]
  },
  {
   "cell_type": "code",
   "execution_count": 3,
   "id": "7721c3cc",
   "metadata": {},
   "outputs": [],
   "source": [
    "# Preprocess the text data\n",
    "tickets_df['tokens'] = tickets_df[\"Ticket Description\"].apply(preprocess_text)\n",
    "\n",
    "# Creating a dictionary representation of the documents\n",
    "dictionary = corpora.Dictionary(tickets_df['tokens'])\n",
    "\n",
    "# Creating a bag-of-words representation of the documents\n",
    "corpus = [dictionary.doc2bow(tokens) for tokens in tickets_df['tokens']]\n",
    "\n",
    "# Training the LDA model\n",
    "lda_model = LdaModel(corpus=corpus,\n",
    "                     id2word=dictionary,\n",
    "                     num_topics=50,\n",
    "                     random_state=42,\n",
    "                     passes=10)"
   ]
  },
  {
   "cell_type": "code",
   "execution_count": 4,
   "id": "d2111da1",
   "metadata": {},
   "outputs": [
    {
     "name": "stdout",
     "output_type": "stream",
     "text": [
      "Coherence Score: 0.4425237348615802\n"
     ]
    }
   ],
   "source": [
    "# Model Evaluation\n",
    "coherence_model_lda = CoherenceModel(model=lda_model, texts=tickets_df['tokens'], dictionary=dictionary, coherence='c_v')\n",
    "coherence_lda = coherence_model_lda.get_coherence()\n",
    "print(f'Coherence Score: {coherence_lda}')"
   ]
  },
  {
   "cell_type": "code",
   "execution_count": 5,
   "id": "6d54ffce",
   "metadata": {},
   "outputs": [],
   "source": [
    "# Assign topics to tickets\n",
    "topics = lda_model.get_document_topics(corpus)\n",
    "\n",
    "# Add topics to DataFrame\n",
    "tickets_df['topic'] = [max(t, key=lambda x: x[1])[0] for t in topics]\n"
   ]
  },
  {
   "cell_type": "code",
   "execution_count": 6,
   "id": "a0c8f511",
   "metadata": {},
   "outputs": [
    {
     "name": "stderr",
     "output_type": "stream",
     "text": [
      "C:\\Users\\sksub\\AppData\\Local\\Temp\\ipykernel_9992\\567968076.py:3: SettingWithCopyWarning: \n",
      "A value is trying to be set on a copy of a slice from a DataFrame\n",
      "\n",
      "See the caveats in the documentation: https://pandas.pydata.org/pandas-docs/stable/user_guide/indexing.html#returning-a-view-versus-a-copy\n",
      "  tickets_df[\"topic\"][tickets_df[\"topic\"]==topic_id]=topic_words\n",
      "C:\\Users\\sksub\\AppData\\Local\\Temp\\ipykernel_9992\\567968076.py:3: SettingWithCopyWarning: \n",
      "A value is trying to be set on a copy of a slice from a DataFrame\n",
      "\n",
      "See the caveats in the documentation: https://pandas.pydata.org/pandas-docs/stable/user_guide/indexing.html#returning-a-view-versus-a-copy\n",
      "  tickets_df[\"topic\"][tickets_df[\"topic\"]==topic_id]=topic_words\n"
     ]
    }
   ],
   "source": [
    "# Change numbers to topic \n",
    "for topic_id, topic_words in lda_model.print_topics():\n",
    "    tickets_df[\"topic\"][tickets_df[\"topic\"]==topic_id]=topic_words"
   ]
  },
  {
   "cell_type": "code",
   "execution_count": 10,
   "id": "7b470a6b",
   "metadata": {},
   "outputs": [],
   "source": [
    "#Saving the data\n",
    "tickets_df.to_csv('.\\outputs.csv')"
   ]
  }
 ],
 "metadata": {
  "kernelspec": {
   "display_name": "Python 3 (ipykernel)",
   "language": "python",
   "name": "python3"
  },
  "language_info": {
   "codemirror_mode": {
    "name": "ipython",
    "version": 3
   },
   "file_extension": ".py",
   "mimetype": "text/x-python",
   "name": "python",
   "nbconvert_exporter": "python",
   "pygments_lexer": "ipython3",
   "version": "3.9.12"
  }
 },
 "nbformat": 4,
 "nbformat_minor": 5
}
